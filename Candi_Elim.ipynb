{
  "nbformat": 4,
  "nbformat_minor": 0,
  "metadata": {
    "colab": {
      "provenance": []
    },
    "kernelspec": {
      "name": "python3",
      "display_name": "Python 3"
    },
    "language_info": {
      "name": "python"
    }
  },
  "cells": [
    {
      "cell_type": "code",
      "execution_count": 1,
      "metadata": {
        "id": "CxXJEZv4h1Dn"
      },
      "outputs": [],
      "source": [
        "import numpy as np\n",
        "import pandas as pd"
      ]
    },
    {
      "cell_type": "code",
      "source": [
        "data = pd.read_csv('/content/drive/MyDrive/ML data/ML_lab prep/candidate/ws.csv')\n",
        "concepts = np.array(data.iloc[:,0:-1])\n",
        "target = np.array(data.iloc[:,-1])"
      ],
      "metadata": {
        "id": "zPSQ7P5ih-SL"
      },
      "execution_count": 2,
      "outputs": []
    },
    {
      "cell_type": "code",
      "source": [
        "def learn(concepts, target):\n",
        "    specific_h = concepts[0].copy()\n",
        "    print(\"initialization of specific_h \\n\",specific_h)\n",
        "    general_h = [[\"?\" for i in range(len(specific_h))] for i in range(len(specific_h))]\n",
        "    print(\"initialization of general_h \\n\", general_h)\n",
        "\n",
        "    for i, h in enumerate(concepts):\n",
        "        if target[i] == \"yes\":\n",
        "            print(\"If instance is Positive \")\n",
        "            for x in range(len(specific_h)):\n",
        "                if h[x]!= specific_h[x]:\n",
        "                    specific_h[x] ='?'\n",
        "                    general_h[x][x] ='?'\n",
        "\n",
        "        if target[i] == \"no\":\n",
        "            print(\"If instance is Negative \")\n",
        "            for x in range(len(specific_h)):\n",
        "                if h[x]!= specific_h[x]:\n",
        "                    general_h[x][x] = specific_h[x]\n",
        "                else:\n",
        "                    general_h[x][x] = '?'\n",
        "\n",
        "        print(\" step {}\".format(i+1))\n",
        "        print(specific_h)\n",
        "        print(general_h)\n",
        "        print(\"\\n\")\n",
        "        print(\"\\n\")\n",
        "\n",
        "    indices = [i for i, val in enumerate(general_h) if val == ['?', '?', '?', '?', '?', '?']]\n",
        "    for i in indices:\n",
        "        general_h.remove(['?', '?', '?', '?', '?', '?'])\n",
        "    return specific_h, general_h"
      ],
      "metadata": {
        "id": "lQILFHmIlVPK"
      },
      "execution_count": 3,
      "outputs": []
    },
    {
      "cell_type": "code",
      "source": [
        "s_final, g_final = learn(concepts, target)\n",
        "\n",
        "print(\"Final Specific_h:\", s_final, sep=\"\\n\")\n",
        "print(\"Final General_h:\", g_final, sep=\"\\n\")"
      ],
      "metadata": {
        "colab": {
          "base_uri": "https://localhost:8080/"
        },
        "id": "4qIy58PTlXwL",
        "outputId": "a844ff30-2b46-4c80-9741-82e44548f775"
      },
      "execution_count": 4,
      "outputs": [
        {
          "output_type": "stream",
          "name": "stdout",
          "text": [
            "initialization of specific_h \n",
            " ['Sunny' 'Warm' 'High' 'Strong' 'Warm' 'Same']\n",
            "initialization of general_h \n",
            " [['?', '?', '?', '?', '?', '?'], ['?', '?', '?', '?', '?', '?'], ['?', '?', '?', '?', '?', '?'], ['?', '?', '?', '?', '?', '?'], ['?', '?', '?', '?', '?', '?'], ['?', '?', '?', '?', '?', '?']]\n",
            " step 1\n",
            "['Sunny' 'Warm' 'High' 'Strong' 'Warm' 'Same']\n",
            "[['?', '?', '?', '?', '?', '?'], ['?', '?', '?', '?', '?', '?'], ['?', '?', '?', '?', '?', '?'], ['?', '?', '?', '?', '?', '?'], ['?', '?', '?', '?', '?', '?'], ['?', '?', '?', '?', '?', '?']]\n",
            "\n",
            "\n",
            "\n",
            "\n",
            " step 2\n",
            "['Sunny' 'Warm' 'High' 'Strong' 'Warm' 'Same']\n",
            "[['?', '?', '?', '?', '?', '?'], ['?', '?', '?', '?', '?', '?'], ['?', '?', '?', '?', '?', '?'], ['?', '?', '?', '?', '?', '?'], ['?', '?', '?', '?', '?', '?'], ['?', '?', '?', '?', '?', '?']]\n",
            "\n",
            "\n",
            "\n",
            "\n",
            " step 3\n",
            "['Sunny' 'Warm' 'High' 'Strong' 'Warm' 'Same']\n",
            "[['?', '?', '?', '?', '?', '?'], ['?', '?', '?', '?', '?', '?'], ['?', '?', '?', '?', '?', '?'], ['?', '?', '?', '?', '?', '?'], ['?', '?', '?', '?', '?', '?'], ['?', '?', '?', '?', '?', '?']]\n",
            "\n",
            "\n",
            "\n",
            "\n",
            "Final Specific_h:\n",
            "['Sunny' 'Warm' 'High' 'Strong' 'Warm' 'Same']\n",
            "Final General_h:\n",
            "[]\n"
          ]
        }
      ]
    }
  ]
}